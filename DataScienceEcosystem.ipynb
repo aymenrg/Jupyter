{
 "cells": [
  {
   "cell_type": "markdown",
   "id": "5a3b4942-1a8e-430a-8787-e50cd220e913",
   "metadata": {},
   "source": [
    "#<h1>Data Science Tools and Ecosystem"
   ]
  },
  {
   "cell_type": "markdown",
   "id": "480792a6-9bef-43b8-b1a1-4866c809ff7b",
   "metadata": {},
   "source": [
    "In this notebook, Data Science Tools and Ecosystem are summarized."
   ]
  },
  {
   "cell_type": "markdown",
   "id": "6dce3998-1e4d-4636-94a0-8beeac3aea9b",
   "metadata": {},
   "source": [
    "Some of the popular languages that Data Scientists use are:\n",
    "1. Python\n",
    "2. R\n",
    "3. SQL"
   ]
  },
  {
   "cell_type": "markdown",
   "id": "ca87850f-6d27-4eb3-9dca-b322e95b1ab5",
   "metadata": {},
   "source": [
    "| Data Science Tools |\n",
    "|--------------------|\n",
    "| Jupyter Notebook   |\n",
    "| RStudio            |\n",
    "| VS Code with extensions |\n"
   ]
  },
  {
   "cell_type": "markdown",
   "id": "e8de037e-c2ca-4be2-b2b2-38455b2b296f",
   "metadata": {},
   "source": [
    "#<h3>Below are a few examples of evaluating arithmetic expressions in Python\n",
    "    "
   ]
  },
  {
   "cell_type": "code",
   "execution_count": 1,
   "id": "9a8fa4ca-c176-44ec-959c-8003848715e8",
   "metadata": {
    "tags": []
   },
   "outputs": [
    {
     "data": {
      "text/plain": [
       "17"
      ]
     },
     "execution_count": 1,
     "metadata": {},
     "output_type": "execute_result"
    }
   ],
   "source": [
    "(3*4)+5\n",
    "# This a simple arithmetic expression to mutiply then add integers"
   ]
  },
  {
   "cell_type": "code",
   "execution_count": 2,
   "id": "3eb01cb8-fcd3-47df-a897-092e77550f60",
   "metadata": {
    "tags": []
   },
   "outputs": [
    {
     "data": {
      "text/plain": [
       "3.3333333333333335"
      ]
     },
     "execution_count": 2,
     "metadata": {},
     "output_type": "execute_result"
    }
   ],
   "source": [
    "200/60\n",
    "#  This will convert 200 minutes to hours by diving by 60"
   ]
  },
  {
   "cell_type": "markdown",
   "id": "2ebe7d5d-7579-455d-8da4-eae5aa1bc5a3",
   "metadata": {},
   "source": [
    "**Objectives:**\n",
    "\n",
    "- List popular languages for Data Science.\n",
    "- Demonstrate usage of Jupyter Notebook.\n",
    "- Showcase common tools in Data Science.\n"
   ]
  },
  {
   "cell_type": "markdown",
   "id": "fe4d1017-ee97-418e-802f-26b9e463599a",
   "metadata": {},
   "source": [
    "<h2>Author\n",
    "    aymen\n",
    "    "
   ]
  },
  {
   "cell_type": "code",
   "execution_count": null,
   "id": "b51a63eb-9c51-41d8-9ee1-7ff625890f93",
   "metadata": {},
   "outputs": [],
   "source": []
  }
 ],
 "metadata": {
  "kernelspec": {
   "display_name": "Python",
   "language": "python",
   "name": "conda-env-python-py"
  },
  "language_info": {
   "codemirror_mode": {
    "name": "ipython",
    "version": 3
   },
   "file_extension": ".py",
   "mimetype": "text/x-python",
   "name": "python",
   "nbconvert_exporter": "python",
   "pygments_lexer": "ipython3",
   "version": "3.7.12"
  }
 },
 "nbformat": 4,
 "nbformat_minor": 5
}
